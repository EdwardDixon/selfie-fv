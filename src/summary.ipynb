{
 "cells": [
  {
   "cell_type": "markdown",
   "metadata": {},
   "source": [
    "# Dataset Overview\n",
    "How much data do we have?  What ages?"
   ]
  },
  {
   "cell_type": "code",
   "execution_count": 9,
   "metadata": {},
   "outputs": [
    {
     "data": {
      "text/html": [
       "<div>\n",
       "<style scoped>\n",
       "    .dataframe tbody tr th:only-of-type {\n",
       "        vertical-align: middle;\n",
       "    }\n",
       "\n",
       "    .dataframe tbody tr th {\n",
       "        vertical-align: top;\n",
       "    }\n",
       "\n",
       "    .dataframe thead th {\n",
       "        text-align: right;\n",
       "    }\n",
       "</style>\n",
       "<table border=\"1\" class=\"dataframe\">\n",
       "  <thead>\n",
       "    <tr style=\"text-align: right;\">\n",
       "      <th></th>\n",
       "      <th>age</th>\n",
       "      <th>imageno</th>\n",
       "      <th>uuids</th>\n",
       "      <th>filename</th>\n",
       "      <th>testset</th>\n",
       "      <th>embedding</th>\n",
       "    </tr>\n",
       "  </thead>\n",
       "  <tbody>\n",
       "    <tr>\n",
       "      <th>0</th>\n",
       "      <td>11.0</td>\n",
       "      <td>37524</td>\n",
       "      <td>1bedfe07-d814-41da-bcd0-8c18035c7c36</td>\n",
       "      <td>1bedfe07-d814-41da-bcd0-8c18035c7c36_11_37524.jpg</td>\n",
       "      <td>False</td>\n",
       "      <td>[0.004424394574016333, -0.013549230061471462, ...</td>\n",
       "    </tr>\n",
       "    <tr>\n",
       "      <th>3</th>\n",
       "      <td>17.0</td>\n",
       "      <td>39645</td>\n",
       "      <td>cae427b2-0cb6-43f3-acc3-142b8c0564d0</td>\n",
       "      <td>cae427b2-0cb6-43f3-acc3-142b8c0564d0_17_39645.jpg</td>\n",
       "      <td>False</td>\n",
       "      <td>[-0.03683062270283699, 0.034385330975055695, 0...</td>\n",
       "    </tr>\n",
       "    <tr>\n",
       "      <th>4</th>\n",
       "      <td>29.0</td>\n",
       "      <td>11443</td>\n",
       "      <td>e7b9e8fb-0c91-46f5-b457-a6cb6e16c379</td>\n",
       "      <td>e7b9e8fb-0c91-46f5-b457-a6cb6e16c379_29_11443.jpg</td>\n",
       "      <td>False</td>\n",
       "      <td>[0.03842884302139282, -0.016815245151519775, 0...</td>\n",
       "    </tr>\n",
       "    <tr>\n",
       "      <th>5</th>\n",
       "      <td>31.0</td>\n",
       "      <td>11874</td>\n",
       "      <td>e7b9e8fb-0c91-46f5-b457-a6cb6e16c379</td>\n",
       "      <td>e7b9e8fb-0c91-46f5-b457-a6cb6e16c379_31_11874.jpg</td>\n",
       "      <td>False</td>\n",
       "      <td>[0.0509033203125, 0.006613001227378845, 0.0418...</td>\n",
       "    </tr>\n",
       "    <tr>\n",
       "      <th>6</th>\n",
       "      <td>15.0</td>\n",
       "      <td>38368</td>\n",
       "      <td>087b9663-33ef-4945-84b4-0fc39d22e660</td>\n",
       "      <td>087b9663-33ef-4945-84b4-0fc39d22e660_15.00_383...</td>\n",
       "      <td>False</td>\n",
       "      <td>[-0.008264955133199692, 0.017958516255021095, ...</td>\n",
       "    </tr>\n",
       "  </tbody>\n",
       "</table>\n",
       "</div>"
      ],
      "text/plain": [
       "    age  imageno                                 uuids  \\\n",
       "0  11.0    37524  1bedfe07-d814-41da-bcd0-8c18035c7c36   \n",
       "3  17.0    39645  cae427b2-0cb6-43f3-acc3-142b8c0564d0   \n",
       "4  29.0    11443  e7b9e8fb-0c91-46f5-b457-a6cb6e16c379   \n",
       "5  31.0    11874  e7b9e8fb-0c91-46f5-b457-a6cb6e16c379   \n",
       "6  15.0    38368  087b9663-33ef-4945-84b4-0fc39d22e660   \n",
       "\n",
       "                                            filename  testset  \\\n",
       "0  1bedfe07-d814-41da-bcd0-8c18035c7c36_11_37524.jpg    False   \n",
       "3  cae427b2-0cb6-43f3-acc3-142b8c0564d0_17_39645.jpg    False   \n",
       "4  e7b9e8fb-0c91-46f5-b457-a6cb6e16c379_29_11443.jpg    False   \n",
       "5  e7b9e8fb-0c91-46f5-b457-a6cb6e16c379_31_11874.jpg    False   \n",
       "6  087b9663-33ef-4945-84b4-0fc39d22e660_15.00_383...    False   \n",
       "\n",
       "                                           embedding  \n",
       "0  [0.004424394574016333, -0.013549230061471462, ...  \n",
       "3  [-0.03683062270283699, 0.034385330975055695, 0...  \n",
       "4  [0.03842884302139282, -0.016815245151519775, 0...  \n",
       "5  [0.0509033203125, 0.006613001227378845, 0.0418...  \n",
       "6  [-0.008264955133199692, 0.017958516255021095, ...  "
      ]
     },
     "execution_count": 9,
     "metadata": {},
     "output_type": "execute_result"
    }
   ],
   "source": [
    "import pandas as pd\n",
    "import plotly.io as pio; pio.renderers.default='notebook'\n",
    "import plotly.express as px\n",
    "import pickle\n",
    "\n",
    "\n",
    "df_train = pickle.load(open(\"../data/selfie_train.pkl\", \"rb\"))\n",
    "df_test = pickle.load(open(\"../data/selfie_test.pkl\", \"rb\"))\n",
    "\n",
    "df_train.head()"
   ]
  },
  {
   "cell_type": "code",
   "execution_count": 15,
   "metadata": {},
   "outputs": [
    {
     "data": {
      "image/png": "[encoded data removed]",
      "text/plain": [
       "<Figure size 432x288 with 1 Axes>"
      ]
     },
     "metadata": {
      "needs_background": "light"
     },
     "output_type": "display_data"
    }
   ],
   "source": [
    "import matplotlib.pyplot as plt\n",
    "\n",
    "# the histogram of the data\n",
    "n, bins, patches = plt.hist(df_train.age.to_numpy(), 20, density=False, facecolor='g', alpha=0.75)\n",
    "\n",
    "plt.xlabel('Age')\n",
    "plt.ylabel('Image count')\n",
    "#plt.grid(True)\n",
    "plt.savefig('../selfies_by_age.png', dpi=100)\n",
    "plt.show()"
   ]
  },
  {
   "cell_type": "code",
   "execution_count": 17,
   "metadata": {},
   "outputs": [
    {
     "name": "stdout",
     "output_type": "stream",
     "text": [
      "We have 21070 images total.\n"
     ]
    }
   ],
   "source": [
    "print(f\"We have {df_train.shape[0] + df_test.shape[0]} images total.\")"
   ]
  },
  {
   "cell_type": "code",
   "execution_count": null,
   "metadata": {},
   "outputs": [],
   "source": []
  }
 ],
 "metadata": {
  "kernelspec": {
   "display_name": "Python 3",
   "language": "python",
   "name": "python3"
  },
  "language_info": {
   "codemirror_mode": {
    "name": "ipython",
    "version": 3
   },
   "file_extension": ".py",
   "mimetype": "text/x-python",
   "name": "python",
   "nbconvert_exporter": "python",
   "pygments_lexer": "ipython3",
   "version": "3.8.3"
  }
 },
 "nbformat": 4,
 "nbformat_minor": 4
}
